{
  "nbformat": 4,
  "nbformat_minor": 0,
  "metadata": {
    "colab": {
      "provenance": [],
      "gpuType": "T4",
      "authorship_tag": "ABX9TyOOKP7og1yAvAlbath8l1vT",
      "include_colab_link": true
    },
    "kernelspec": {
      "name": "python3",
      "display_name": "Python 3"
    },
    "language_info": {
      "name": "python"
    },
    "accelerator": "GPU"
  },
  "cells": [
    {
      "cell_type": "markdown",
      "metadata": {
        "id": "view-in-github",
        "colab_type": "text"
      },
      "source": [
        "<a href=\"https://colab.research.google.com/github/PedroAlmeida18/PGP3_TESTESIND/blob/main/Tensores.ipynb\" target=\"_parent\"><img src=\"https://colab.research.google.com/assets/colab-badge.svg\" alt=\"Open In Colab\"/></a>"
      ]
    },
    {
      "cell_type": "code",
      "execution_count": 4,
      "metadata": {
        "colab": {
          "base_uri": "https://localhost:8080/"
        },
        "id": "WAYh3_RGa8WY",
        "outputId": "d633dd19-c236-471c-decf-abbc3f77ab2f"
      },
      "outputs": [
        {
          "output_type": "stream",
          "name": "stdout",
          "text": [
            "torch.float32\n",
            "tensor([[1., 2., 3.],\n",
            "        [4., 5., 6.]])\n",
            "||||||||||||||||||\n",
            "torch.float32\n",
            "tensor([[1., 2., 3.],\n",
            "        [4., 5., 6.]])\n",
            "||||||||||||||||||\n",
            "torch.float64\n",
            "tensor([[1., 2., 3.],\n",
            "        [4., 5., 6.]], dtype=torch.float64)\n",
            "||||||||||||||||||\n",
            "torch.int64\n",
            "tensor([[1, 2, 3],\n",
            "        [4, 5, 6]])\n"
          ]
        }
      ],
      "source": [
        "import torch\n",
        "# CURSO DE APRENDIZADO COM DEPP LEARNING\n",
        "# Aprendendo a transformar em tensores\n",
        "lista = [[1,2,3],[4,5,6]]\n",
        "tns = torch.Tensor(lista)\n",
        "print(tns.dtype)\n",
        "print(tns)\n",
        "\n",
        "\n",
        "tns = torch.FloatTensor(lista)\n",
        "print(tns.dtype)\n",
        "print(tns)\n",
        "\n",
        "\n",
        "tns = torch.DoubleTensor(lista)\n",
        "print(tns.dtype)\n",
        "print(tns)\n",
        "\n",
        "\n",
        "tns = torch.LongTensor(lista) #Uso para inteiros\n",
        "print(tns.dtype)\n",
        "print(tns)"
      ]
    },
    {
      "cell_type": "code",
      "source": [
        "#Outras formas de instaciar tensores, PRESERVA O TIPO DO ARRAY PÁRA O TENSOR\n",
        "import numpy as np\n",
        "arr = np.random.rand(3,4)\n",
        "tns = torch.from_numpy(arr)\n",
        "print(\"CRIAÇÃO DO ARRAY\")\n",
        "print(arr)\n",
        "print(\"CONVERSÃO EM TENSORES \")\n",
        "print(tns)"
      ],
      "metadata": {
        "colab": {
          "base_uri": "https://localhost:8080/"
        },
        "id": "-fbvwhPdeDUr",
        "outputId": "8db44ab6-6b9d-41cb-f76e-8a57d416be55"
      },
      "execution_count": 5,
      "outputs": [
        {
          "output_type": "stream",
          "name": "stdout",
          "text": [
            "CRIAÇÃO DO ARRAY\n",
            "[[0.12479968 0.72920524 0.45762437 0.31132518]\n",
            " [0.79053827 0.40033574 0.76430888 0.19401772]\n",
            " [0.36130525 0.79807388 0.62815591 0.40150112]]\n",
            "CONVERSÃO EM TENSORES \n",
            "tensor([[0.1248, 0.7292, 0.4576, 0.3113],\n",
            "        [0.7905, 0.4003, 0.7643, 0.1940],\n",
            "        [0.3613, 0.7981, 0.6282, 0.4015]], dtype=torch.float64)\n"
          ]
        }
      ]
    },
    {
      "cell_type": "markdown",
      "source": [
        "# Tensores já inicializados"
      ],
      "metadata": {
        "id": "enVTdnHEfEMH"
      }
    },
    {
      "cell_type": "code",
      "source": [
        "tns1 = torch.ones(2,3)\n",
        "tns0= torch.zeros(4,5)\n",
        "tnsr= torch.randn(3,3)\n",
        "print(tns1)\n",
        "print(tns0 )\n",
        "print(tnsr)"
      ],
      "metadata": {
        "colab": {
          "base_uri": "https://localhost:8080/"
        },
        "id": "DOcnwEBAfNlc",
        "outputId": "e66b87b3-fb04-4b4d-ebeb-bcc702a85693"
      },
      "execution_count": 8,
      "outputs": [
        {
          "output_type": "stream",
          "name": "stdout",
          "text": [
            "tensor([[1., 1., 1.],\n",
            "        [1., 1., 1.]])\n",
            "tensor([[0., 0., 0., 0., 0.],\n",
            "        [0., 0., 0., 0., 0.],\n",
            "        [0., 0., 0., 0., 0.],\n",
            "        [0., 0., 0., 0., 0.]])\n",
            "tensor([[ 0.7702,  1.0433,  0.7959],\n",
            "        [-1.0500, -0.9926,  0.1611],\n",
            "        [-2.6683, -1.1602, -0.7309]])\n"
          ]
        }
      ]
    },
    {
      "cell_type": "markdown",
      "source": [
        "#Voltar o tensor em um array"
      ],
      "metadata": {
        "id": "SO8n_jvdf4qq"
      }
    },
    {
      "cell_type": "code",
      "source": [
        "tnsr=tnsr.data.numpy()\n",
        "print(arr)"
      ],
      "metadata": {
        "colab": {
          "base_uri": "https://localhost:8080/"
        },
        "id": "8cYDHHmJhKJJ",
        "outputId": "14fee993-bdaf-47e0-8d19-a41ea169341f"
      },
      "execution_count": 9,
      "outputs": [
        {
          "output_type": "stream",
          "name": "stdout",
          "text": [
            "[[0.12479968 0.72920524 0.45762437 0.31132518]\n",
            " [0.79053827 0.40033574 0.76430888 0.19401772]\n",
            " [0.36130525 0.79807388 0.62815591 0.40150112]]\n"
          ]
        }
      ]
    },
    {
      "cell_type": "code",
      "source": [
        "print(tnsr)\n",
        "tnsr[0,2]=-10\n",
        "print(tnsr)\n",
        "print('')\n",
        "print(\"Acesso de algumas linhas de um, tensor\")\n",
        "print (tnsr[0:2])"
      ],
      "metadata": {
        "colab": {
          "base_uri": "https://localhost:8080/"
        },
        "id": "sRe05Bnphlw9",
        "outputId": "2ca42364-e1aa-4a93-d89c-15aaa553129a"
      },
      "execution_count": 13,
      "outputs": [
        {
          "output_type": "stream",
          "name": "stdout",
          "text": [
            "[[  0.7702491    1.0432711  -10.        ]\n",
            " [ -1.0500077   -0.99261916   0.16105306]\n",
            " [ -2.6682904   -1.1602085   -0.73093057]]\n",
            "[[  0.7702491    1.0432711  -10.        ]\n",
            " [ -1.0500077   -0.99261916   0.16105306]\n",
            " [ -2.6682904   -1.1602085   -0.73093057]]\n",
            "\n",
            "Acesso de algumas linhas de um, tensor\n",
            "[[  0.7702491    1.0432711  -10.        ]\n",
            " [ -1.0500077   -0.99261916   0.16105306]]\n"
          ]
        }
      ]
    },
    {
      "cell_type": "markdown",
      "source": [
        "#Operações com Tensores"
      ],
      "metadata": {
        "id": "SLx5Ii2Ci4o8"
      }
    },
    {
      "cell_type": "code",
      "source": [
        "#Obs: CADA ELEMENTO DE UM TENSOR, OPERA COM RESPECTIVO ELEMENTO DO OUTRO TENSOR\n",
        "tnsmod= tnsr[0:2,:]\n",
        "print(tnsmod)\n",
        "print(tns1)\n",
        "print(tns1-tnsmod)\n"
      ],
      "metadata": {
        "colab": {
          "base_uri": "https://localhost:8080/"
        },
        "id": "IFI2WAxCi-gI",
        "outputId": "82a762ca-092a-46c0-b43f-501d60d1ec37"
      },
      "execution_count": 18,
      "outputs": [
        {
          "output_type": "stream",
          "name": "stdout",
          "text": [
            "[[  0.7702491    1.0432711  -10.        ]\n",
            " [ -1.0500077   -0.99261916   0.16105306]]\n",
            "tensor([[1., 1., 1.],\n",
            "        [1., 1., 1.]])\n",
            "tensor([[ 0.2298, -0.0433, 11.0000],\n",
            "        [ 2.0500,  1.9926,  0.8389]])\n"
          ]
        }
      ]
    },
    {
      "cell_type": "markdown",
      "source": [
        "#TESTE PARA GPU"
      ],
      "metadata": {
        "id": "_nocfox2l7bZ"
      }
    },
    {
      "cell_type": "code",
      "source": [
        "import torch\n",
        "tnstestegpu=torch.randn(10)\n",
        "if torch.cuda.is_available():\n",
        "  device=torch.device('cuda')\n",
        "else :\n",
        "  device = torch.device('cpu')\n",
        "print(device)\n",
        "\n",
        "tnstestegpu=tnstestegpu.to(device)\n",
        "print(tnstestegpu)"
      ],
      "metadata": {
        "colab": {
          "base_uri": "https://localhost:8080/"
        },
        "id": "RYKIFmjll6sO",
        "outputId": "124844f6-01e3-451f-a7fa-a40abf242558"
      },
      "execution_count": 2,
      "outputs": [
        {
          "output_type": "stream",
          "name": "stdout",
          "text": [
            "cuda\n",
            "tensor([-0.0069, -1.2262,  0.2741,  0.4084, -1.3687,  0.2833,  1.5371, -0.8482,\n",
            "        -0.0912, -1.3501], device='cuda:0')\n"
          ]
        }
      ]
    }
  ]
}