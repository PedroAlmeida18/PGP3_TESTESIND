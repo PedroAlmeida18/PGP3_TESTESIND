{
  "nbformat": 4,
  "nbformat_minor": 0,
  "metadata": {
    "colab": {
      "provenance": [],
      "gpuType": "T4",
      "authorship_tag": "ABX9TyNqQ3X1KE4mOvTIWNVLLjIa",
      "include_colab_link": true
    },
    "kernelspec": {
      "name": "python3",
      "display_name": "Python 3"
    },
    "language_info": {
      "name": "python"
    },
    "accelerator": "GPU"
  },
  "cells": [
    {
      "cell_type": "markdown",
      "metadata": {
        "id": "view-in-github",
        "colab_type": "text"
      },
      "source": [
        "<a href=\"https://colab.research.google.com/github/PedroAlmeida18/PGP3_TESTESIND/blob/main/Datasetspythorch0.ipynb\" target=\"_parent\"><img src=\"https://colab.research.google.com/assets/colab-badge.svg\" alt=\"Open In Colab\"/></a>"
      ]
    },
    {
      "cell_type": "code",
      "execution_count": 5,
      "metadata": {
        "colab": {
          "base_uri": "https://localhost:8080/"
        },
        "id": "RaKP4C1RpSts",
        "outputId": "19091c4e-1477-43db-db3c-538f11a881ec"
      },
      "outputs": [
        {
          "output_type": "stream",
          "name": "stdout",
          "text": [
            "cuda\n"
          ]
        }
      ],
      "source": [
        "import torch\n",
        "from torch import nn , optim\n",
        "from torchvision import datasets\n",
        "from torchvision import transforms\n",
        "args = {\n",
        "    'batch_size':20\n",
        "}\n",
        "if torch.cuda.is_available():\n",
        "  args['device'] = torch.device('cuda')\n",
        "else :\n",
        "  args['device'] = torch.device('gpu')\n",
        "print(args['device'])"
      ]
    },
    {
      "cell_type": "markdown",
      "source": [
        "#DATASETS\n",
        "\n"
      ],
      "metadata": {
        "id": "vJa8rmlgqoGK"
      }
    },
    {
      "cell_type": "code",
      "source": [
        "train_set = datasets.MNIST('./',\n",
        "                           train = True,\n",
        "                           transform= transforms.ToTensor(),\n",
        "                           download=True) # é uma classe, se necessário implementar é necessário criar uma classe\n",
        "                                          #cada elemento é um atupla, ou seja, uma linha no formato dado, rotulo\n",
        "test_set = datasets.MNIST('./',\n",
        "                           train = False,\n",
        "                           transform= transforms.ToTensor(),\n",
        "                           download=False)\n",
        "print('Amostras de treino :'+ str(len(train_set)) + '\\nAmostras de Teste :' + str(len(test_set)))"
      ],
      "metadata": {
        "colab": {
          "base_uri": "https://localhost:8080/"
        },
        "id": "-9ulP-17qn0r",
        "outputId": "5066a719-8f5f-43f5-ad17-d9332da7a038"
      },
      "execution_count": 8,
      "outputs": [
        {
          "output_type": "stream",
          "name": "stdout",
          "text": [
            "Amostras de treino :60000\n",
            "Amostras de Teste :10000\n"
          ]
        }
      ]
    }
  ]
}