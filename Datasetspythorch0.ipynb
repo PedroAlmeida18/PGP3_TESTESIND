{
  "nbformat": 4,
  "nbformat_minor": 0,
  "metadata": {
    "colab": {
      "provenance": [],
      "gpuType": "T4",
      "authorship_tag": "ABX9TyPlz7P+ORHDCAmu8YvUPG7F",
      "include_colab_link": true
    },
    "kernelspec": {
      "name": "python3",
      "display_name": "Python 3"
    },
    "language_info": {
      "name": "python"
    },
    "accelerator": "GPU"
  },
  "cells": [
    {
      "cell_type": "markdown",
      "metadata": {
        "id": "view-in-github",
        "colab_type": "text"
      },
      "source": [
        "<a href=\"https://colab.research.google.com/github/PedroAlmeida18/PGP3_TESTESIND/blob/main/Datasetspythorch0.ipynb\" target=\"_parent\"><img src=\"https://colab.research.google.com/assets/colab-badge.svg\" alt=\"Open In Colab\"/></a>"
      ]
    },
    {
      "cell_type": "code",
      "execution_count": 17,
      "metadata": {
        "colab": {
          "base_uri": "https://localhost:8080/"
        },
        "id": "RaKP4C1RpSts",
        "outputId": "7efa37d7-2b08-44c7-84ae-01aed2289eef"
      },
      "outputs": [
        {
          "output_type": "stream",
          "name": "stdout",
          "text": [
            "cuda\n"
          ]
        }
      ],
      "source": [
        "import torch\n",
        "\n",
        "from torch import nn , optim\n",
        "\n",
        "from torchvision import datasets\n",
        "\n",
        "from torchvision import transforms\n",
        "\n",
        "import matplotlib.pyplot as plt\n",
        "\n",
        "from torch.utils.data import DataLoader\n",
        "\n",
        "args = {\n",
        "    'batch_size':20,\n",
        "    'num_workers':4\n",
        "}\n",
        "if torch.cuda.is_available():\n",
        "  args['device'] = torch.device('cuda')\n",
        "else :\n",
        "  args['device'] = torch.device('gpu')\n",
        "print(args['device'])"
      ]
    },
    {
      "cell_type": "markdown",
      "source": [
        "#DATASETS\n",
        "\n"
      ],
      "metadata": {
        "id": "vJa8rmlgqoGK"
      }
    },
    {
      "cell_type": "code",
      "source": [
        "train_set = datasets.MNIST('./',\n",
        "                           train = True,\n",
        "                           transform= transforms.ToTensor(),\n",
        "                           download=True) # é uma classe, se necessário implementar é necessário criar uma classe\n",
        "                                          #cada elemento é um atupla, ou seja, uma linha no formato dado, rotulo\n",
        "test_set = datasets.MNIST('./',\n",
        "                           train = False,\n",
        "                           transform= transforms.ToTensor(),\n",
        "                           download=False)\n",
        "print('Amostras de treino :'+ str(len(train_set)) + '\\nAmostras de Teste :' + str(len(test_set)))"
      ],
      "metadata": {
        "colab": {
          "base_uri": "https://localhost:8080/"
        },
        "id": "-9ulP-17qn0r",
        "outputId": "ed4c4bfc-161a-4d28-a778-7e8d57cdc7cc"
      },
      "execution_count": 4,
      "outputs": [
        {
          "output_type": "stream",
          "name": "stdout",
          "text": [
            "Downloading http://yann.lecun.com/exdb/mnist/train-images-idx3-ubyte.gz\n",
            "Downloading http://yann.lecun.com/exdb/mnist/train-images-idx3-ubyte.gz to ./MNIST/raw/train-images-idx3-ubyte.gz\n"
          ]
        },
        {
          "output_type": "stream",
          "name": "stderr",
          "text": [
            "100%|██████████| 9912422/9912422 [00:00<00:00, 154538163.65it/s]"
          ]
        },
        {
          "output_type": "stream",
          "name": "stdout",
          "text": [
            "Extracting ./MNIST/raw/train-images-idx3-ubyte.gz to ./MNIST/raw\n"
          ]
        },
        {
          "output_type": "stream",
          "name": "stderr",
          "text": [
            "\n"
          ]
        },
        {
          "output_type": "stream",
          "name": "stdout",
          "text": [
            "\n",
            "Downloading http://yann.lecun.com/exdb/mnist/train-labels-idx1-ubyte.gz\n",
            "Downloading http://yann.lecun.com/exdb/mnist/train-labels-idx1-ubyte.gz to ./MNIST/raw/train-labels-idx1-ubyte.gz\n"
          ]
        },
        {
          "output_type": "stream",
          "name": "stderr",
          "text": [
            "100%|██████████| 28881/28881 [00:00<00:00, 106821599.49it/s]\n"
          ]
        },
        {
          "output_type": "stream",
          "name": "stdout",
          "text": [
            "Extracting ./MNIST/raw/train-labels-idx1-ubyte.gz to ./MNIST/raw\n",
            "\n",
            "Downloading http://yann.lecun.com/exdb/mnist/t10k-images-idx3-ubyte.gz\n",
            "Downloading http://yann.lecun.com/exdb/mnist/t10k-images-idx3-ubyte.gz to ./MNIST/raw/t10k-images-idx3-ubyte.gz\n"
          ]
        },
        {
          "output_type": "stream",
          "name": "stderr",
          "text": [
            "100%|██████████| 1648877/1648877 [00:00<00:00, 53460710.84it/s]\n"
          ]
        },
        {
          "output_type": "stream",
          "name": "stdout",
          "text": [
            "Extracting ./MNIST/raw/t10k-images-idx3-ubyte.gz to ./MNIST/raw\n",
            "\n",
            "Downloading http://yann.lecun.com/exdb/mnist/t10k-labels-idx1-ubyte.gz\n",
            "Downloading http://yann.lecun.com/exdb/mnist/t10k-labels-idx1-ubyte.gz to ./MNIST/raw/t10k-labels-idx1-ubyte.gz\n"
          ]
        },
        {
          "output_type": "stream",
          "name": "stderr",
          "text": [
            "100%|██████████| 4542/4542 [00:00<00:00, 6573681.42it/s]\n"
          ]
        },
        {
          "output_type": "stream",
          "name": "stdout",
          "text": [
            "Extracting ./MNIST/raw/t10k-labels-idx1-ubyte.gz to ./MNIST/raw\n",
            "\n",
            "Amostras de treino :60000\n",
            "Amostras de Teste :10000\n"
          ]
        }
      ]
    },
    {
      "cell_type": "code",
      "source": [
        "for i in range(3):\n",
        "  dado, rotulo = train_set[i]\n",
        "\n",
        "  plt.figure()\n",
        "  plt.imshow(dado[0])\n",
        "  plt.title('Rótulo'+ str(rotulo))"
      ],
      "metadata": {
        "colab": {
          "base_uri": "https://localhost:8080/",
          "height": 1000
        },
        "id": "j6cBCRK7G5BD",
        "outputId": "166d596c-ee79-476d-c10c-eb257a1fae5b"
      },
      "execution_count": 6,
      "outputs": [
        {
          "output_type": "display_data",
          "data": {
            "text/plain": [
              "<Figure size 640x480 with 1 Axes>"
            ],
            "image/png": "[encoded data removed]"
          },
          "metadata": {}
        },
        {
          "output_type": "display_data",
          "data": {
            "text/plain": [
              "<Figure size 640x480 with 1 Axes>"
            ],
            "image/png": "[encoded data removed]"
          },
          "metadata": {}
        },
        {
          "output_type": "display_data",
          "data": {
            "text/plain": [
              "<Figure size 640x480 with 1 Axes>"
            ],
            "image/png": "[encoded data removed]"
          },
          "metadata": {}
        }
      ]
    },
    {
      "cell_type": "markdown",
      "source": [
        "#Dataloader\n",
        "\n",
        "\n",
        "1.   Separação dos dados em batches\n",
        "2.   Embaralhamento os dados\n",
        "3.  Carregando batches em paralelo com threads obs: Não pode ser indexado\n",
        "\n",
        "\n",
        "\n"
      ],
      "metadata": {
        "id": "tGpGGNf9H5Iz"
      }
    },
    {
      "cell_type": "code",
      "source": [
        "train_loader = DataLoader(train_set,\n",
        "                          batch_size = args['batch_size'],\n",
        "                          shuffle=True,\n",
        "                          num_workers= args['num_workers'])\n",
        "\n",
        "test_loader = DataLoader(test_set,\n",
        "                          batch_size = args['batch_size'],\n",
        "                          shuffle=True,\n",
        "                         num_workers= args['num_workers'])\n",
        "\n",
        "#Como fazer para indexar dentro de um for, com o uso de quebrar a tupla\n",
        "for batch in train_loader:\n",
        "  dado, rotulo = batch\n",
        "  print(dado.size(), rotulo.size())\n",
        "  plt.imshow(dado[2][0]) #o primeiro []é para dizer qual elemento do batch eu quero, o segundo é para uma dimensão a mais\n",
        "  plt.title('Rotulo :'+str(rotulo[0]))\n",
        "  break\n"
      ],
      "metadata": {
        "colab": {
          "base_uri": "https://localhost:8080/",
          "height": 469
        },
        "id": "AP7t_H_cH1YR",
        "outputId": "91454d9f-975f-478f-c124-bf199130cf64"
      },
      "execution_count": 20,
      "outputs": [
        {
          "output_type": "stream",
          "name": "stdout",
          "text": [
            "torch.Size([20, 1, 28, 28]) torch.Size([20])\n"
          ]
        },
        {
          "output_type": "display_data",
          "data": {
            "text/plain": [
              "<Figure size 640x480 with 1 Axes>"
            ],
            "image/png": "[encoded data removed]"
          },
          "metadata": {}
        }
      ]
    }
  ]
}